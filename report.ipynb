{
 "cells": [
  {
   "cell_type": "code",
   "execution_count": 1,
   "id": "5f39206a",
   "metadata": {},
   "outputs": [],
   "source": [
    "import pandas as pd"
   ]
  },
  {
   "cell_type": "code",
   "execution_count": 2,
   "id": "029fa98b",
   "metadata": {},
   "outputs": [],
   "source": [
    "df = pd.read_excel(\"./dumpdata.xlsx\")\n",
    "df.head()"
   ]
  },
  {
   "cell_type": "markdown",
   "id": "1d81f778",
   "metadata": {},
   "source": [
    "## Data Preprocessing"
   ]
  },
  {
   "cell_type": "code",
   "execution_count": 3,
   "id": "b769590e",
   "metadata": {},
   "outputs": [],
   "source": [
    "df['AgentFirstResponseTime'] = df['AgentFirstResponseTime'].replace('-', pd.to_datetime(0, unit='s').time())\n",
    "ChatStartTime = pd.to_datetime(df['ChatStartTime'], errors='coerce')\n",
    "ChatEndTime = pd.to_datetime(df['ChatEndTime'], errors='coerce')"
   ]
  },
  {
   "cell_type": "code",
   "execution_count": 4,
   "id": "988de8a6",
   "metadata": {},
   "outputs": [],
   "source": [
    "# Swapping day value with month value for single digit dates to make data consistent\n",
    "\n",
    "def standardize_date(dt):\n",
    "    if ((1<=dt.day) & (dt.day<=9)):\n",
    "        month = dt.day\n",
    "        dt = dt.replace(day=dt.month)\n",
    "        dt = dt.replace(month=month)\n",
    "    return dt"
   ]
  },
  {
   "cell_type": "code",
   "execution_count": 5,
   "id": "edc21bb2",
   "metadata": {},
   "outputs": [],
   "source": [
    "df['ChatStartTime'] = ChatStartTime.apply(standardize_date)\n",
    "df['ChatEndTime'] = ChatEndTime.apply(standardize_date)\n",
    "df.head()"
   ]
  },
  {
   "cell_type": "markdown",
   "id": "89fefe87",
   "metadata": {},
   "source": [
    "## Dividing Data into weeks"
   ]
  },
  {
   "cell_type": "code",
   "execution_count": 6,
   "id": "f8aaf254",
   "metadata": {},
   "outputs": [],
   "source": [
    "# Index of weeks list corresponds to data in that particular week\n",
    "days =  df['ChatStartTime'].dt.day\n",
    "\n",
    "weeks = [\n",
    "    df[(1 <=days) &  (days <= 7)], df[(8 <=days) &  (days <= 14)], \n",
    "    df[(15 <=days) &  (days <= 21)], df[(22 <=days) &  (days <= 28)] \n",
    "]"
   ]
  },
  {
   "cell_type": "markdown",
   "id": "200e5b4c",
   "metadata": {},
   "source": [
    "# Chart Report"
   ]
  },
  {
   "cell_type": "code",
   "execution_count": 7,
   "id": "b9326dc2",
   "metadata": {},
   "outputs": [],
   "source": [
    "# Createing chart report dataframe\n",
    "\n",
    "chartReport = pd.DataFrame(columns=['Week', 'Incoming Chats', 'Unique Users', 'Closed By Bot', 'Bot Deflection %', 'Closed By Agents']).reset_index(drop=True)\n",
    "chartReport['Week'] = [\"01 Feb - 07 Feb\", \"08 Feb - 14 Feb\", \"15 Feb - 21 Feb\", \"22 Feb - 28 Feb\"]\n",
    "chartReport"
   ]
  },
  {
   "cell_type": "code",
   "execution_count": 8,
   "id": "1cc1e0eb",
   "metadata": {},
   "outputs": [],
   "source": [
    "# Applying filter on each column according to requirenemt.\n",
    "\n",
    "def applyChartFilter(week):\n",
    "    incomingChats = len(week[\"RoomCode\"])\n",
    "    userid =  len(pd.unique(week[\"UserId\"]))\n",
    "    closedByBot = len(week[week['ClosedBy'].isin([\"System\"])])\n",
    "    botDeflection = round(closedByBot/incomingChats,4)*100\n",
    "    closedByAgents = len(week.loc[week['ClosedBy'] != 'System']) \n",
    "    return [incomingChats, userid, closedByAgents, botDeflection, closedByAgents]"
   ]
  },
  {
   "cell_type": "code",
   "execution_count": 9,
   "id": "5052cbc0",
   "metadata": {},
   "outputs": [],
   "source": [
    "# Looping through chartReport dataframe and populating it with each week data individually\n",
    "\n",
    "for i, week in enumerate(weeks, start=0):\n",
    "    weekData = applyChartFilter(week)\n",
    "    for j in range(1,6):\n",
    "        chartReport.iloc[i,j] = weekData[j-1]\n",
    "chartReport"
   ]
  },
  {
   "cell_type": "markdown",
   "id": "09767560",
   "metadata": {},
   "source": [
    "# Agent Report"
   ]
  },
  {
   "cell_type": "code",
   "execution_count": 10,
   "id": "87464bd2",
   "metadata": {},
   "outputs": [],
   "source": [
    "# Createing agent report dataframe\n",
    "\n",
    "agentReport = pd.DataFrame(columns=['Week', 'Agent Name', 'Chats Resolved', 'Avg Agent First Response Time (seconds)', 'Avg Agent Chat Resolution Time (seconds)', 'Average Agent CSAT Score', 'Business Hours CSAT', 'Outside Business Hours CSAT']).reset_index(drop=True)\n",
    "agentReport['Week'] = [\"01 Feb - 07 Feb\", \"08 Feb - 14 Feb\", \"15 Feb - 21 Feb\", \"22 Feb - 28 Feb\"]\n",
    "agentReport"
   ]
  },
  {
   "cell_type": "code",
   "execution_count": 11,
   "id": "8018fd14",
   "metadata": {},
   "outputs": [],
   "source": [
    "# First populating only agent names column by storing names for \n",
    "\n",
    "for i, week in enumerate(weeks, start=0):\n",
    "    AgentNames = pd.unique(week.loc[week['ClosedBy'] != 'System']['ClosedBy'])\n",
    "    agentReport.iat[i,1] = AgentNames\n",
    "\n"
   ]
  },
  {
   "cell_type": "code",
   "execution_count": 12,
   "id": "9a2c9f7d",
   "metadata": {},
   "outputs": [],
   "source": [
    "# Now applying explode method on agent name column to map each name from list to their corresponding week value\n",
    "\n",
    "agentReport = agentReport.explode('Agent Name')\n",
    "agentReport"
   ]
  },
  {
   "cell_type": "code",
   "execution_count": 13,
   "id": "af2f75d5",
   "metadata": {},
   "outputs": [],
   "source": [
    "# Defining function to calculate csat score with dataframe which is selected based on individual name followed by that particular week\n",
    "\n",
    "def calculate_csat_score(df):\n",
    "    positive_csat_counts = len(df[df['CsatScore'].isin([4, 5])])\n",
    "    negative_csat_counts = len(df[df['CsatScore'].isin([1, 2, 3])])\n",
    "    if positive_csat_counts != 0:\n",
    "        avg_csat = positive_csat_counts / (positive_csat_counts + negative_csat_counts)\n",
    "    else:\n",
    "        avg_csat = 0\n",
    "    return round(avg_csat, 2)"
   ]
  },
  {
   "cell_type": "code",
   "execution_count": 14,
   "id": "0ceed071",
   "metadata": {},
   "outputs": [],
   "source": [
    "# Applying filter on each column according to requirenemt.\n",
    "\n",
    "def agentReportFilter(row):\n",
    "    data = weeks[0] if row.iloc[0] == \"01 Feb - 07 Feb\" else weeks[1] if row.iloc[0] == \"08 Feb - 14 Feb\" else weeks[2] if row.iloc[0] == \"15 Feb - 21 Feb\" else weeks[3]\n",
    "    data = data.loc[data['ClosedBy'] == row.iloc[1]]\n",
    "    row.iloc[2] = len(data) # Chats Resolved\n",
    "    sec_avg = round(data['AgentFirstResponseTime'].apply(lambda t: t.hour * 3600 + t.minute * 60 + t.second).mean(), 2) \n",
    "    row.iloc[3] = sec_avg  # Avg Agent First Response Time (seconds)\n",
    "    row.iloc[4] = round(((data['ChatEndTime'] - data['ChatStartTime']).dt.total_seconds()).mean(), 2) # Avg Agent Chat Resolution Time (seconds)\n",
    "    row.iloc[5] = calculate_csat_score(data) # Average Agent CSAT Score\n",
    "    start_time = pd.to_datetime('10:00:00').time()\n",
    "    end_time = pd.to_datetime('17:00:00').time()\n",
    "    business_hours = data[(data['ChatStartTime'].dt.time >= start_time) & (data['ChatEndTime'].dt.time <= end_time)]\n",
    "    row.iloc[6] = calculate_csat_score(business_hours) # Business Hours CSAT\n",
    "    non_business_hours = data[(data['ChatStartTime'].dt.time < start_time) | (data['ChatEndTime'].dt.time > end_time)]\n",
    "    row.iloc[7] = calculate_csat_score(non_business_hours) # Outside Business Hours CSAT\n",
    "    return row"
   ]
  },
  {
   "cell_type": "code",
   "execution_count": 15,
   "id": "3b7acc8e",
   "metadata": {},
   "outputs": [],
   "source": [
    "# Applying filter function row by row to calculate column values for all individuals seperately based on individual name and week value\n",
    "\n",
    "agentReport = agentReport.apply(agentReportFilter, axis=1)\n",
    "agentReport"
   ]
  },
  {
   "cell_type": "code",
   "execution_count": 16,
   "id": "d5b94af7",
   "metadata": {},
   "outputs": [],
   "source": [
    "# Writing chartreport and agent report dataframe into excel and saving it\n",
    "\n",
    "with pd.ExcelWriter('output_file.xlsx') as writer:\n",
    "    # Write each DataFrame to a different sheet\n",
    "    chartReport.to_excel(writer, sheet_name='Chart Report', index=False)\n",
    "    agentReport.to_excel(writer, sheet_name='Agent Report', index=False)"
   ]
  }
 ],
 "metadata": {
  "kernelspec": {
   "display_name": "Python 3 (ipykernel)",
   "language": "python",
   "name": "python3"
  },
  "language_info": {
   "codemirror_mode": {
    "name": "ipython",
    "version": 3
   },
   "file_extension": ".py",
   "mimetype": "text/x-python",
   "name": "python",
   "nbconvert_exporter": "python",
   "pygments_lexer": "ipython3",
   "version": "3.11.2"
  }
 },
 "nbformat": 4,
 "nbformat_minor": 5
}
